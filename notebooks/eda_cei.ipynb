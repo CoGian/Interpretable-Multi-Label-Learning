{
 "cells": [
  {
   "cell_type": "code",
   "execution_count": 2,
   "id": "31d46665-abf5-4f5f-8fa6-17db321a96be",
   "metadata": {},
   "outputs": [],
   "source": [
    "import json\n",
    "import pandas as pd\n",
    "from collections import Counter, defaultdict\n",
    "import numpy as np\n",
    "import tqdm\n",
    "import os\n",
    "import re\n",
    "from matplotlib import pyplot as plt "
   ]
  },
  {
   "cell_type": "code",
   "execution_count": 5,
   "id": "8c7cfba2-a84a-475b-a2a3-249909ddca2e",
   "metadata": {},
   "outputs": [],
   "source": [
    "dataset_dir = \"../Datasets/cei/\""
   ]
  },
  {
   "cell_type": "code",
   "execution_count": 40,
   "id": "92d5e995-81b8-43b8-91e6-67592a1c1d4f",
   "metadata": {},
   "outputs": [],
   "source": [
    "sents = []\n",
    "dataset = []\n",
    "number_of_sentences = 0\n",
    "for file_name in os.listdir(dataset_dir+\"/labels\"):\n",
    "    if file_name == '.ipynb_checkpoints':\n",
    "        continue\n",
    "    with open(dataset_dir+\"/text/\"+file_name, \"r\") as ftext:\n",
    "        text_sents = ftext.readlines()\n",
    "        sents.extend(text_sents)\n",
    "        number_of_sentences += len(text_sents)\n",
    "        text = \" \".join([sent.strip() for sent in text_sents])\n",
    "    with open(dataset_dir+\"/labels/\"+file_name, \"r\") as flabels:\n",
    "        labels_text = flabels.readline()\n",
    "        sent_labels = re.split(\"<\", labels_text.strip())[1:]\n",
    "        \n",
    "        labels = [label.strip().split(\"--\")[0].lower() + \"---\" + label.strip().split(\"--\")[1].lower() \n",
    "                  for label in re.split(\"<|AND\", labels_text) \n",
    "                  if label != '' and label != ' ' and \"NULL\" not in label]\n",
    "        dataset.append({'pmid': file_name.strip(\".txt\"), \n",
    "                        'text': text, \n",
    "                        'labels': list(set(labels)),\n",
    "                        'labels_per_sentence': sent_labels})"
   ]
  },
  {
   "cell_type": "code",
   "execution_count": 41,
   "id": "1e5973dc-651a-40b7-8559-0edbf79ecea0",
   "metadata": {},
   "outputs": [
    {
     "data": {
      "text/plain": [
       "36153"
      ]
     },
     "execution_count": 41,
     "metadata": {},
     "output_type": "execute_result"
    }
   ],
   "source": [
    "number_of_sentences"
   ]
  },
  {
   "cell_type": "code",
   "execution_count": 42,
   "id": "139c1d0e-59bb-4ab2-9d28-181bdc2537e2",
   "metadata": {},
   "outputs": [
    {
     "name": "stdout",
     "output_type": "stream",
     "text": [
      "Number of papers:  3661\n"
     ]
    }
   ],
   "source": [
    "print(\"Number of papers: \", len(dataset))"
   ]
  },
  {
   "cell_type": "markdown",
   "id": "286f9d1f-7f2f-4e0d-ae31-1dc755f8f17d",
   "metadata": {},
   "source": [
    "# Labels Statistics"
   ]
  },
  {
   "cell_type": "code",
   "execution_count": 43,
   "id": "8ed207db-ff1d-4962-99b4-3eddb610b78b",
   "metadata": {},
   "outputs": [],
   "source": [
    "labels = [row['labels'] for row in dataset]"
   ]
  },
  {
   "cell_type": "code",
   "execution_count": 44,
   "id": "03b8f673-4ff1-4a96-9de0-2cb72c2d3e33",
   "metadata": {},
   "outputs": [
    {
     "name": "stdout",
     "output_type": "stream",
     "text": [
      "Average labels per example:  1.883911499590276\n",
      "Standard dev labels per example:  0.8587264964259516\n"
     ]
    }
   ],
   "source": [
    "print(\"Average labels per example: \", np.mean([len(label_set) for label_set in labels]))\n",
    "print(\"Standard dev labels per example: \", np.std([len(label_set) for label_set in labels]))"
   ]
  },
  {
   "cell_type": "code",
   "execution_count": 45,
   "id": "f3324987-4956-4e69-82cd-5a92184d9476",
   "metadata": {},
   "outputs": [],
   "source": [
    "frequencies = Counter([c for clist in labels for c in clist])"
   ]
  },
  {
   "cell_type": "code",
   "execution_count": 46,
   "id": "53b160da-7704-4603-9c2b-4702e91e683b",
   "metadata": {},
   "outputs": [
    {
     "name": "stdout",
     "output_type": "stream",
     "text": [
      "Number of labels: 11\n"
     ]
    }
   ],
   "source": [
    "print(\"Number of labels:\", len(frequencies))\n",
    "frequencies = dict(sorted(frequencies.items(), key=lambda item: item[1], reverse=True))"
   ]
  },
  {
   "cell_type": "code",
   "execution_count": 48,
   "id": "4fa1735e-2f41-4e2a-92c6-eaa9dee30c97",
   "metadata": {},
   "outputs": [
    {
     "data": {
      "text/plain": [
       "dict_keys(['biomonitoring---exposure biomarker', 'exposure routes---oral intake', 'biomonitoring---effect marker', 'exposure routes---inhalation', 'site comparisons---workplace', 'site comparisons---polluted area', 'exposure routes---dermal uptake', 'exposure routes---', 'exposure routes---combined', 'site comparisons---', 'biomonitoring---'])"
      ]
     },
     "execution_count": 48,
     "metadata": {},
     "output_type": "execute_result"
    }
   ],
   "source": [
    "frequencies.keys()"
   ]
  },
  {
   "cell_type": "code",
   "execution_count": 49,
   "id": "972c90df-85bf-43af-81c6-13d43afeecb6",
   "metadata": {},
   "outputs": [],
   "source": [
    "with open(\"../Datasets/cei/topics.json\", \"w\") as ftopics:\n",
    "    for label in frequencies.keys():\n",
    "        ftopics.write(label + \"\\n\") "
   ]
  },
  {
   "cell_type": "code",
   "execution_count": 50,
   "id": "7f0e92ed-0559-4d78-a670-3300014583fb",
   "metadata": {},
   "outputs": [
    {
     "data": {
      "image/png": "[encoded data removed]",
      "text/plain": [
       "<Figure size 432x288 with 1 Axes>"
      ]
     },
     "metadata": {
      "needs_background": "light"
     },
     "output_type": "display_data"
    }
   ],
   "source": [
    "plt.bar(x=frequencies.keys(), height=frequencies.values())\n",
    "plt.title(\"Distribution of labels\")\n",
    "plt.xlabel(\"Labels\")\n",
    "plt.xticks(range(len(frequencies)), frequencies.keys(), rotation='vertical')\n",
    "plt.ylabel(\"Frequency\")\n",
    "plt.show()"
   ]
  },
  {
   "cell_type": "markdown",
   "id": "29217bf6-df84-4ff8-a147-a29a3efb8e53",
   "metadata": {},
   "source": [
    "# Corpus Statistics"
   ]
  },
  {
   "cell_type": "code",
   "execution_count": 51,
   "id": "e60cc9eb-7150-4d35-9e1e-4ebe72313af4",
   "metadata": {},
   "outputs": [
    {
     "name": "stderr",
     "output_type": "stream",
     "text": [
      "100%|█████████████████████████████████████████████████████████████████████████████████████████████████████| 3661/3661 [00:00<00:00, 22657.13it/s]\n"
     ]
    },
    {
     "name": "stdout",
     "output_type": "stream",
     "text": [
      " average words per text: 276.56842392788855\n",
      " standard deviation on words per text: 72.86280453406054\n",
      " average sentences per text: 9.875170718382956\n"
     ]
    },
    {
     "data": {
      "image/png": "[encoded data removed]",
      "text/plain": [
       "<Figure size 432x288 with 1 Axes>"
      ]
     },
     "metadata": {
      "needs_background": "light"
     },
     "output_type": "display_data"
    }
   ],
   "source": [
    "text_words = []\n",
    "for row in tqdm.tqdm(dataset):\n",
    "    text = row['text']\n",
    "    text_words.append(len(text.split()))\n",
    "    \n",
    "mean_text_words = np.mean(text_words)\n",
    "sd_text_words = np.std(text_words)\n",
    "mean_text_sentences = number_of_sentences / len(dataset)\n",
    "print(' average words per text:', mean_text_words)\n",
    "print(' standard deviation on words per text:', sd_text_words)\n",
    "print(' average sentences per text:', mean_text_sentences)\n",
    "    \n",
    "plt.hist(text_words, bins = 100)\n",
    "plt.show()"
   ]
  },
  {
   "cell_type": "markdown",
   "id": "65185469-2166-4736-bd54-5d18dc7ffac4",
   "metadata": {},
   "source": [
    "# Save dataset in json format"
   ]
  },
  {
   "cell_type": "code",
   "execution_count": 52,
   "id": "2905b6ad-9453-4626-a353-72f6aa0ba6e2",
   "metadata": {},
   "outputs": [],
   "source": [
    "from sklearn.model_selection import train_test_split"
   ]
  },
  {
   "cell_type": "code",
   "execution_count": 53,
   "id": "182dfba5-8676-4227-a16b-dd3e8fe7e01c",
   "metadata": {},
   "outputs": [],
   "source": [
    "train, val = train_test_split(dataset, test_size=0.10, random_state=44)"
   ]
  },
  {
   "cell_type": "code",
   "execution_count": 54,
   "id": "19afdf57-583e-45ea-b7c7-7cb2430c2821",
   "metadata": {},
   "outputs": [
    {
     "data": {
      "text/plain": [
       "367"
      ]
     },
     "execution_count": 54,
     "metadata": {},
     "output_type": "execute_result"
    }
   ],
   "source": [
    "len(val)"
   ]
  },
  {
   "cell_type": "code",
   "execution_count": 55,
   "id": "8a997530-9dd3-4915-9483-dc46178c13c9",
   "metadata": {},
   "outputs": [
    {
     "data": {
      "text/plain": [
       "3294"
      ]
     },
     "execution_count": 55,
     "metadata": {},
     "output_type": "execute_result"
    }
   ],
   "source": [
    "len(train)"
   ]
  },
  {
   "cell_type": "code",
   "execution_count": 56,
   "id": "bc16e2e6-ebd8-4c95-9deb-6239fd5590db",
   "metadata": {},
   "outputs": [],
   "source": [
    "with open(\"../Datasets/cei/train.json\", \"w\") as ftrain:\n",
    "    json.dump(train, ftrain)\n",
    "with open(\"../Datasets/cei/val.json\", \"w\") as fval:\n",
    "    json.dump(val, fval)"
   ]
  },
  {
   "cell_type": "code",
   "execution_count": null,
   "id": "d855d36c-c634-4ad0-935b-c475a0812736",
   "metadata": {},
   "outputs": [],
   "source": []
  }
 ],
 "metadata": {
  "kernelspec": {
   "display_name": "Interpretable-Multi-Label-Learning",
   "language": "python",
   "name": "interpretable-multi-label-learning"
  },
  "language_info": {
   "codemirror_mode": {
    "name": "ipython",
    "version": 3
   },
   "file_extension": ".py",
   "mimetype": "text/x-python",
   "name": "python",
   "nbconvert_exporter": "python",
   "pygments_lexer": "ipython3",
   "version": "3.7.9"
  }
 },
 "nbformat": 4,
 "nbformat_minor": 5
}
