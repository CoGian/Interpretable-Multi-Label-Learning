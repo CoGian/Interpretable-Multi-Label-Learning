{
 "cells": [
  {
   "cell_type": "code",
   "execution_count": 2,
   "metadata": {
    "tags": []
   },
   "outputs": [],
   "source": [
    "import json\n",
    "import pandas as pd\n",
    "from collections import Counter\n",
    "import numpy as np\n",
    "import seaborn as sns\n",
    "import tqdm\n",
    "from matplotlib import pyplot as plt "
   ]
  },
  {
   "cell_type": "code",
   "execution_count": 87,
   "metadata": {},
   "outputs": [],
   "source": [
    "train = pd.read_csv(\"../Datasets/LitCovid/BC7-LitCovid-Train.csv\")\n",
    "dev = pd.read_csv(\"../Datasets/LitCovid/BC7-LitCovid-Dev.csv\")\n",
    "test = pd.read_csv(\"../Datasets/LitCovid/BC7-LitCovid-Test.csv\")"
   ]
  },
  {
   "cell_type": "code",
   "execution_count": 71,
   "metadata": {},
   "outputs": [
    {
     "name": "stdout",
     "output_type": "stream",
     "text": [
      "Train size: 24960\n",
      "Dev size: 6239\n",
      "Test size: 2500\n"
     ]
    }
   ],
   "source": [
    "print(\"Train size:\", len(train))\n",
    "print(\"Dev size:\", len(dev))\n",
    "print(\"Test size:\", len(test))"
   ]
  },
  {
   "cell_type": "markdown",
   "metadata": {},
   "source": [
    "# Label Statistics"
   ]
  },
  {
   "cell_type": "code",
   "execution_count": 19,
   "metadata": {},
   "outputs": [],
   "source": [
    "train_labels = train[\"label\"].to_list()\n",
    "train_labels = [label_set.split(\";\") for label_set in train_labels]\n",
    "dev_labels = dev[\"label\"].to_list()\n",
    "dev_labels = [label_set.split(\";\") for label_set in dev_labels]"
   ]
  },
  {
   "cell_type": "code",
   "execution_count": 25,
   "metadata": {},
   "outputs": [
    {
     "name": "stdout",
     "output_type": "stream",
     "text": [
      "Train Average labels per example:  1.3720352564102565\n",
      "Train Standard dev labels per example:  0.5829192878888834\n",
      "Test Average labels per example:  1.3633595127424267\n",
      "Test Standard dev labels per example:  0.563809994010852\n"
     ]
    }
   ],
   "source": [
    "print(\"Train Average labels per example: \", np.mean([len(label_set) for label_set in train_labels]))\n",
    "print(\"Train Standard dev labels per example: \", np.std([len(label_set) for label_set in train_labels]))\n",
    "print(\"Test Average labels per example: \", np.mean([len(label_set) for label_set in test_labels]))\n",
    "print(\"Test Standard dev labels per example: \", np.std([len(label_set) for label_set in test_labels]))"
   ]
  },
  {
   "cell_type": "code",
   "execution_count": 40,
   "metadata": {},
   "outputs": [],
   "source": [
    "frequencies = Counter(c for clist in train_labels for c in clist)"
   ]
  },
  {
   "cell_type": "code",
   "execution_count": 60,
   "metadata": {},
   "outputs": [
    {
     "data": {
      "image/png": "[encoded data removed]",
      "text/plain": [
       "<Figure size 432x288 with 1 Axes>"
      ]
     },
     "metadata": {
      "needs_background": "light"
     },
     "output_type": "display_data"
    }
   ],
   "source": [
    "plt.bar(x=frequencies.keys(), height=frequencies.values())\n",
    "plt.title(\"Distribution of labels\")\n",
    "plt.xlabel(\"Labels\")\n",
    "plt.xticks(range(7), frequencies.keys(), rotation='vertical')\n",
    "plt.ylabel(\"Frequency\")\n",
    "plt.show()"
   ]
  },
  {
   "cell_type": "markdown",
   "metadata": {},
   "source": [
    "# Corpus Statistics"
   ]
  },
  {
   "cell_type": "code",
   "execution_count": 61,
   "metadata": {},
   "outputs": [
    {
     "name": "stderr",
     "output_type": "stream",
     "text": [
      "[nltk_data] Downloading package punkt to\n",
      "[nltk_data]     /Users/kgiantsios/nltk_data...\n",
      "[nltk_data]   Package punkt is already up-to-date!\n"
     ]
    }
   ],
   "source": [
    "import nltk\n",
    "import ssl\n",
    "\n",
    "try:\n",
    "    _create_unverified_https_context = ssl._create_unverified_context\n",
    "except AttributeError:\n",
    "    pass\n",
    "else:\n",
    "    ssl._create_default_https_context = _create_unverified_https_context\n",
    "\n",
    "nltk.download('punkt')\n",
    "\n",
    "from nltk.tokenize import sent_tokenize"
   ]
  },
  {
   "cell_type": "code",
   "execution_count": 85,
   "metadata": {},
   "outputs": [],
   "source": [
    "def calc_stats(df, mode):\n",
    "    text_words = []\n",
    "    text_sentences = []\n",
    "    for title, abstract in tqdm.tqdm(zip(df[\"title\"].to_list(), df[\"abstract\"].to_list())):\n",
    "        text = str(title) + \" \" + str(abstract)\n",
    "        text_words.append(len(text.split()))\n",
    "        text_sentences.append(len(sent_tokenize(text)))\n",
    "                              \n",
    "    mean_text_words = np.mean(text_words)\n",
    "    sd_text_words = np.std(text_words)\n",
    "    mean_text_sentences = np.mean(text_sentences)\n",
    "    print(mode + ' average words per text:', mean_text_words)\n",
    "    print(mode + ' standard deviation on words per text:', sd_text_words)\n",
    "    print(mode + ' average sentences per text:', mean_text_sentences)\n",
    "    \n",
    "    plt.hist(text_words, bins = 100)\n",
    "    plt.show()"
   ]
  },
  {
   "cell_type": "code",
   "execution_count": 79,
   "metadata": {},
   "outputs": [
    {
     "name": "stderr",
     "output_type": "stream",
     "text": [
      "24960it [00:13, 1850.14it/s]\n"
     ]
    },
    {
     "name": "stdout",
     "output_type": "stream",
     "text": [
      "train average words per text: 212.70877403846154\n",
      "train standard deviation on words per text: 91.87124100074108\n",
      "train average sentences per text: 9.79266826923077\n"
     ]
    },
    {
     "data": {
      "image/png": "[encoded data removed]",
      "text/plain": [
       "<Figure size 432x288 with 1 Axes>"
      ]
     },
     "metadata": {
      "needs_background": "light"
     },
     "output_type": "display_data"
    }
   ],
   "source": [
    "calc_stats(train, \"train\")"
   ]
  },
  {
   "cell_type": "code",
   "execution_count": 81,
   "metadata": {},
   "outputs": [
    {
     "name": "stderr",
     "output_type": "stream",
     "text": [
      "6239it [00:03, 1849.87it/s]\n"
     ]
    },
    {
     "name": "stdout",
     "output_type": "stream",
     "text": [
      "dev average words per text: 214.89838115082546\n",
      "dev standard deviation on words per text: 94.56847740320373\n",
      "dev average sentences per text: 9.90030453598333\n"
     ]
    },
    {
     "data": {
      "image/png": "[encoded data removed]",
      "text/plain": [
       "<Figure size 432x288 with 1 Axes>"
      ]
     },
     "metadata": {
      "needs_background": "light"
     },
     "output_type": "display_data"
    }
   ],
   "source": [
    "calc_stats(dev, \"dev\")"
   ]
  },
  {
   "cell_type": "code",
   "execution_count": 86,
   "metadata": {},
   "outputs": [
    {
     "name": "stderr",
     "output_type": "stream",
     "text": [
      "2500it [00:01, 1679.62it/s]\n"
     ]
    },
    {
     "name": "stdout",
     "output_type": "stream",
     "text": [
      "test average words per text: 226.6792\n",
      "test standard deviation on words per text: 80.68011085366702\n",
      "test average sentences per text: 10.488\n"
     ]
    },
    {
     "data": {
      "image/png": "[encoded data removed]",
      "text/plain": [
       "<Figure size 432x288 with 1 Axes>"
      ]
     },
     "metadata": {
      "needs_background": "light"
     },
     "output_type": "display_data"
    }
   ],
   "source": [
    "calc_stats(test, \"test\")"
   ]
  },
  {
   "cell_type": "code",
   "execution_count": null,
   "metadata": {},
   "outputs": [],
   "source": []
  }
 ],
 "metadata": {
  "kernelspec": {
   "display_name": "Python 3",
   "language": "python",
   "name": "python3"
  },
  "language_info": {
   "codemirror_mode": {
    "name": "ipython",
    "version": 3
   },
   "file_extension": ".py",
   "mimetype": "text/x-python",
   "name": "python",
   "nbconvert_exporter": "python",
   "pygments_lexer": "ipython3",
   "version": "3.7.9"
  }
 },
 "nbformat": 4,
 "nbformat_minor": 4
}
