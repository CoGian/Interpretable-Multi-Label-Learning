{
 "cells": [
  {
   "cell_type": "code",
   "execution_count": 1,
   "metadata": {
    "tags": []
   },
   "outputs": [],
   "source": [
    "import json\n",
    "import pandas as pd\n",
    "from collections import Counter, defaultdict\n",
    "import numpy as np\n",
    "import tqdm\n",
    "import os\n",
    "import re\n",
    "from matplotlib import pyplot as plt "
   ]
  },
  {
   "cell_type": "code",
   "execution_count": 2,
   "metadata": {},
   "outputs": [],
   "source": [
    "dataset_dir = \"../Datasets/HoC/\""
   ]
  },
  {
   "cell_type": "code",
   "execution_count": 3,
   "metadata": {
    "tags": []
   },
   "outputs": [],
   "source": [
    "sents = []\n",
    "dataset = []\n",
    "number_of_sentences = 0\n",
    "for file_name in sorted(os.listdir(dataset_dir+\"/labels\")):\n",
    "    if file_name == '.ipynb_checkpoints':\n",
    "        continue\n",
    "    with open(dataset_dir+\"/text/\"+file_name, \"r\") as ftext:\n",
    "        text_sents = ftext.readlines()\n",
    "        sents.extend(text_sents)\n",
    "        number_of_sentences += len(text_sents)\n",
    "        text = \" \".join([sent.strip() for sent in text_sents])\n",
    "    with open(dataset_dir+\"/labels/\"+file_name, \"r\") as flabels:\n",
    "        labels_text = flabels.readline()\n",
    "        labels_per_sentence = re.split(\"<\", labels_text.strip())[1:]\n",
    "        labels_per_sentence_cleaned = []\n",
    "        \n",
    "        for sent_labels in labels_per_sentence:\n",
    "            sent_labels_splitted = re.split(\"AND\", sent_labels)\n",
    "            sent_labels_splitted = [label.split(\"--\")[0].strip().lower() \n",
    "                                    for label in sent_labels_splitted\n",
    "                                    if label != '' and label != ' ' and \"NULL\" not in label]\n",
    "            labels_per_sentence_cleaned.append(sent_labels_splitted)\n",
    "        \n",
    "        labels = [label for sent_labels in labels_per_sentence_cleaned for label in sent_labels]\n",
    "        \n",
    "#         if len(list(set(labels))) >= 3 and len(list(set(labels))) < 4 and len(text.split(\" \")) < 150:\n",
    "#             print(file_name)\n",
    "            \n",
    "            \n",
    "        if labels != []:\n",
    "            dataset.append({'pmid': file_name.strip(\".txt\"), \n",
    "                            'text': text, \n",
    "                            'labels': list(set(labels)),\n",
    "                            'labels_per_sentence': labels_per_sentence_cleaned})"
   ]
  },
  {
   "cell_type": "code",
   "execution_count": 4,
   "metadata": {},
   "outputs": [
    {
     "data": {
      "text/plain": [
       "17464"
      ]
     },
     "execution_count": 4,
     "metadata": {},
     "output_type": "execute_result"
    }
   ],
   "source": [
    "number_of_sentences"
   ]
  },
  {
   "cell_type": "markdown",
   "metadata": {},
   "source": [
    "### Note: the dataset has annotated spans (sentences) that are related to labels. A label can have one or more annotated spans (sentences) in text. Also a span (sentence) can have more than one related label."
   ]
  },
  {
   "cell_type": "code",
   "execution_count": 5,
   "metadata": {},
   "outputs": [
    {
     "name": "stdout",
     "output_type": "stream",
     "text": [
      "Number of papers:  1580\n"
     ]
    }
   ],
   "source": [
    "print(\"Number of papers: \", len(dataset))"
   ]
  },
  {
   "cell_type": "markdown",
   "metadata": {},
   "source": [
    "# Label Statistics"
   ]
  },
  {
   "cell_type": "code",
   "execution_count": 6,
   "metadata": {},
   "outputs": [],
   "source": [
    "labels = [row['labels'] for row in dataset]"
   ]
  },
  {
   "cell_type": "code",
   "execution_count": null,
   "metadata": {},
   "outputs": [],
   "source": []
  },
  {
   "cell_type": "code",
   "execution_count": 7,
   "metadata": {},
   "outputs": [
    {
     "name": "stdout",
     "output_type": "stream",
     "text": [
      "Average labels per example:  1.5607594936708862\n",
      "Standard dev labels per example:  0.7726196964362626\n"
     ]
    }
   ],
   "source": [
    "print(\"Average labels per example: \", np.mean([len(label_set) for label_set in labels]))\n",
    "print(\"Standard dev labels per example: \", np.std([len(label_set) for label_set in labels]))"
   ]
  },
  {
   "cell_type": "code",
   "execution_count": 8,
   "metadata": {},
   "outputs": [],
   "source": [
    "frequencies = Counter([c for clist in labels for c in clist])"
   ]
  },
  {
   "cell_type": "code",
   "execution_count": 9,
   "metadata": {},
   "outputs": [
    {
     "name": "stdout",
     "output_type": "stream",
     "text": [
      "Number of labels: 10\n"
     ]
    }
   ],
   "source": [
    "print(\"Number of labels:\", len(frequencies))\n",
    "frequencies = dict(sorted(frequencies.items(), key=lambda item: item[1], reverse=True))"
   ]
  },
  {
   "cell_type": "code",
   "execution_count": 10,
   "metadata": {},
   "outputs": [
    {
     "data": {
      "text/plain": [
       "dict_keys(['sustaining proliferative signaling', 'resisting cell death', 'genomic instability and mutation', 'activating invasion and metastasis', 'evading growth suppressors', 'tumor promoting inflammation', 'inducing angiogenesis', 'enabling replicative immortality', 'avoiding immune destruction', 'cellular energetics'])"
      ]
     },
     "execution_count": 10,
     "metadata": {},
     "output_type": "execute_result"
    }
   ],
   "source": [
    "frequencies.keys()"
   ]
  },
  {
   "cell_type": "code",
   "execution_count": 11,
   "metadata": {},
   "outputs": [],
   "source": [
    "with open(\"../Datasets/HoC/topics.json\", \"w\") as ftopics:\n",
    "    for label in frequencies.keys():\n",
    "        ftopics.write(label + \"\\n\")  "
   ]
  },
  {
   "cell_type": "code",
   "execution_count": 25,
   "metadata": {},
   "outputs": [
    {
     "data": {
      "image/png": "[encoded data removed]",
      "text/plain": [
       "<Figure size 720x576 with 1 Axes>"
      ]
     },
     "metadata": {
      "needs_background": "light"
     },
     "output_type": "display_data"
    }
   ],
   "source": [
    "fig = plt.figure(figsize=(10, 8))\n",
    "plt.bar(x=frequencies.keys(), height=frequencies.values())\n",
    "plt.title(\"Distribution of labels\")\n",
    "plt.xlabel(\"Labels\")\n",
    "plt.xticks(range(len(frequencies)), frequencies.keys(), rotation='vertical')\n",
    "plt.ylabel(\"Frequency\")\n",
    "plt.tight_layout()\n",
    "fig.savefig('HoC_label_distribution.png', dpi=600)"
   ]
  },
  {
   "cell_type": "markdown",
   "metadata": {},
   "source": [
    "# Corpus Statistics"
   ]
  },
  {
   "cell_type": "code",
   "execution_count": 26,
   "metadata": {},
   "outputs": [
    {
     "name": "stderr",
     "output_type": "stream",
     "text": [
      "100%|██████████| 1580/1580 [00:00<00:00, 30342.44it/s]\n"
     ]
    },
    {
     "name": "stdout",
     "output_type": "stream",
     "text": [
      " average words per text: 242.22025316455696\n",
      " standard deviation on words per text: 69.06642991865193\n",
      " average sentences per text: 11.053164556962026\n"
     ]
    },
    {
     "data": {
      "image/png": "[encoded data removed]",
      "text/plain": [
       "<Figure size 720x360 with 1 Axes>"
      ]
     },
     "metadata": {
      "needs_background": "light"
     },
     "output_type": "display_data"
    }
   ],
   "source": [
    "text_words = []\n",
    "for row in tqdm.tqdm(dataset):\n",
    "    text = row['text']\n",
    "    text_words.append(len(text.split()))\n",
    "    \n",
    "mean_text_words = np.mean(text_words)\n",
    "sd_text_words = np.std(text_words)\n",
    "mean_text_sentences = number_of_sentences / len(dataset)\n",
    "print(' average words per text:', mean_text_words)\n",
    "print(' standard deviation on words per text:', sd_text_words)\n",
    "print(' average sentences per text:', mean_text_sentences)\n",
    "\n",
    "fig = plt.figure(figsize=(10, 5))\n",
    "plt.title(\"Distribution of abstract size\")\n",
    "plt.xlabel(\"Size of abstract\")\n",
    "plt.ylabel(\"Frequency\")\n",
    "plt.hist(text_words, bins = 100)\n",
    "fig.savefig('HoC_size_distribution.png', dpi=600)"
   ]
  },
  {
   "cell_type": "markdown",
   "metadata": {},
   "source": [
    "# Save dataset in json format"
   ]
  },
  {
   "cell_type": "code",
   "execution_count": 29,
   "metadata": {},
   "outputs": [],
   "source": [
    "train_ratio = 0.70\n",
    "validation_ratio = 0.10\n",
    "test_ratio = 0.20"
   ]
  },
  {
   "cell_type": "code",
   "execution_count": 30,
   "metadata": {},
   "outputs": [],
   "source": [
    "from sklearn.model_selection import train_test_split"
   ]
  },
  {
   "cell_type": "code",
   "execution_count": 31,
   "metadata": {},
   "outputs": [],
   "source": [
    "train, test = train_test_split(dataset, test_size=1 - train_ratio, random_state=44)"
   ]
  },
  {
   "cell_type": "code",
   "execution_count": 32,
   "metadata": {},
   "outputs": [],
   "source": [
    "val, test = train_test_split(test, test_size=test_ratio/(test_ratio + validation_ratio), random_state=44)"
   ]
  },
  {
   "cell_type": "code",
   "execution_count": 33,
   "metadata": {},
   "outputs": [
    {
     "data": {
      "text/plain": [
       "1105"
      ]
     },
     "execution_count": 33,
     "metadata": {},
     "output_type": "execute_result"
    }
   ],
   "source": [
    "len(train)"
   ]
  },
  {
   "cell_type": "code",
   "execution_count": 34,
   "metadata": {},
   "outputs": [
    {
     "data": {
      "text/plain": [
       "158"
      ]
     },
     "execution_count": 34,
     "metadata": {},
     "output_type": "execute_result"
    }
   ],
   "source": [
    "len(val)"
   ]
  },
  {
   "cell_type": "code",
   "execution_count": 35,
   "metadata": {},
   "outputs": [
    {
     "data": {
      "text/plain": [
       "317"
      ]
     },
     "execution_count": 35,
     "metadata": {},
     "output_type": "execute_result"
    }
   ],
   "source": [
    "len(test)"
   ]
  },
  {
   "cell_type": "code",
   "execution_count": 36,
   "metadata": {},
   "outputs": [],
   "source": [
    "with open(\"../Datasets/HoC/train.json\", \"w\") as ftrain:\n",
    "    json.dump(train, ftrain)\n",
    "with open(\"../Datasets/HoC/val.json\", \"w\") as fval:\n",
    "    json.dump(val, fval)\n",
    "with open(\"../Datasets/HoC/test.json\", \"w\") as ftest:\n",
    "    json.dump(test, ftest)"
   ]
  },
  {
   "cell_type": "code",
   "execution_count": null,
   "metadata": {},
   "outputs": [],
   "source": []
  }
 ],
 "metadata": {
  "kernelspec": {
   "display_name": "Python 3",
   "language": "python",
   "name": "python3"
  },
  "language_info": {
   "codemirror_mode": {
    "name": "ipython",
    "version": 3
   },
   "file_extension": ".py",
   "mimetype": "text/x-python",
   "name": "python",
   "nbconvert_exporter": "python",
   "pygments_lexer": "ipython3",
   "version": "3.7.9"
  }
 },
 "nbformat": 4,
 "nbformat_minor": 4
}
