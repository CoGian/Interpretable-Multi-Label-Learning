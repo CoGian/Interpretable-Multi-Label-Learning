{
 "cells": [
  {
   "cell_type": "code",
   "execution_count": 1,
   "metadata": {
    "tags": []
   },
   "outputs": [],
   "source": [
    "import json\n",
    "import pandas as pd\n",
    "from collections import Counter, defaultdict\n",
    "import numpy as np\n",
    "import tqdm\n",
    "import os\n",
    "import re\n",
    "from matplotlib import pyplot as plt "
   ]
  },
  {
   "cell_type": "code",
   "execution_count": 2,
   "metadata": {},
   "outputs": [],
   "source": [
    "dataset_dir = \"../Datasets/HoC/\""
   ]
  },
  {
   "cell_type": "code",
   "execution_count": 9,
   "metadata": {},
   "outputs": [],
   "source": [
    "sents = []\n",
    "dataset = []\n",
    "number_of_sentences = 0\n",
    "for file_name in os.listdir(dataset_dir+\"/labels\"):\n",
    "    if file_name == '.ipynb_checkpoints':\n",
    "        continue\n",
    "    with open(dataset_dir+\"/text/\"+file_name, \"r\") as ftext:\n",
    "        text_sents = ftext.readlines()\n",
    "        sents.extend(text_sents)\n",
    "        number_of_sentences += len(text_sents)\n",
    "        text = \" \".join([sent.strip() for sent in text_sents])\n",
    "    with open(dataset_dir+\"/labels/\"+file_name, \"r\") as flabels:\n",
    "        labels_text = flabels.readline()\n",
    "        sent_labels = re.split(\"<\", labels_text.strip())[1:]\n",
    "        \n",
    "        labels = [label.strip().split(\"--\")[0] for label in re.split(\"<|AND\", labels_text) \n",
    "                  if label != '' and label != ' ' and \"NULL\" not in label]\n",
    "        dataset.append({'pmid': file_name.strip(\".txt\"), \n",
    "                        'text': text, \n",
    "                        'labels': list(set(labels)),\n",
    "                        'labels_per_sentence': sent_labels})"
   ]
  },
  {
   "cell_type": "code",
   "execution_count": 10,
   "metadata": {},
   "outputs": [
    {
     "data": {
      "text/plain": [
       "17464"
      ]
     },
     "execution_count": 10,
     "metadata": {},
     "output_type": "execute_result"
    }
   ],
   "source": [
    "number_of_sentences"
   ]
  },
  {
   "cell_type": "markdown",
   "metadata": {},
   "source": [
    "### Note: the dataset has annotated spans (sentences) that are related to labels. A label can have one or more annotated spans (sentences) in text. Also a span (sentence) can have more than one related label."
   ]
  },
  {
   "cell_type": "code",
   "execution_count": 11,
   "metadata": {},
   "outputs": [
    {
     "name": "stdout",
     "output_type": "stream",
     "text": [
      "Number of papers:  1852\n"
     ]
    }
   ],
   "source": [
    "print(\"Number of papers: \", len(dataset))"
   ]
  },
  {
   "cell_type": "markdown",
   "metadata": {},
   "source": [
    "# Label Statistics"
   ]
  },
  {
   "cell_type": "code",
   "execution_count": 12,
   "metadata": {},
   "outputs": [],
   "source": [
    "labels = [row['labels'] for row in dataset]"
   ]
  },
  {
   "cell_type": "code",
   "execution_count": 13,
   "metadata": {},
   "outputs": [
    {
     "name": "stdout",
     "output_type": "stream",
     "text": [
      "Average labels per example:  1.3315334773218142\n",
      "Standard dev labels per example:  0.9024918841358657\n"
     ]
    }
   ],
   "source": [
    "print(\"Average labels per example: \", np.mean([len(label_set) for label_set in labels]))\n",
    "print(\"Standard dev labels per example: \", np.std([len(label_set) for label_set in labels]))"
   ]
  },
  {
   "cell_type": "code",
   "execution_count": 14,
   "metadata": {},
   "outputs": [],
   "source": [
    "frequencies = Counter([c for clist in labels for c in clist])"
   ]
  },
  {
   "cell_type": "code",
   "execution_count": 15,
   "metadata": {},
   "outputs": [
    {
     "name": "stdout",
     "output_type": "stream",
     "text": [
      "Number of labels: 10\n"
     ]
    }
   ],
   "source": [
    "print(\"Number of labels:\", len(frequencies))\n",
    "frequencies = dict(sorted(frequencies.items(), key=lambda item: item[1], reverse=True))"
   ]
  },
  {
   "cell_type": "code",
   "execution_count": 16,
   "metadata": {},
   "outputs": [
    {
     "data": {
      "text/plain": [
       "dict_keys(['Sustaining proliferative signaling', 'Resisting cell death', 'Genomic instability and mutation', 'Activating invasion and metastasis', 'Tumor promoting inflammation', 'Evading growth suppressors', 'Inducing angiogenesis', 'Enabling replicative immortality', 'Avoiding immune destruction', 'Cellular energetics'])"
      ]
     },
     "execution_count": 16,
     "metadata": {},
     "output_type": "execute_result"
    }
   ],
   "source": [
    "frequencies.keys()"
   ]
  },
  {
   "cell_type": "code",
   "execution_count": 17,
   "metadata": {},
   "outputs": [],
   "source": [
    "with open(\"../Datasets/HoC/topics.json\", \"w\") as ftopics:\n",
    "    for label in frequencies.keys():\n",
    "        ftopics.write(label + \"\\n\")  "
   ]
  },
  {
   "cell_type": "code",
   "execution_count": 18,
   "metadata": {},
   "outputs": [
    {
     "data": {
      "image/png": "[encoded data removed]",
      "text/plain": [
       "<Figure size 432x288 with 1 Axes>"
      ]
     },
     "metadata": {
      "needs_background": "light"
     },
     "output_type": "display_data"
    }
   ],
   "source": [
    "plt.bar(x=frequencies.keys(), height=frequencies.values())\n",
    "plt.title(\"Distribution of labels\")\n",
    "plt.xlabel(\"Labels\")\n",
    "plt.xticks(range(len(frequencies)), frequencies.keys(), rotation='vertical')\n",
    "plt.ylabel(\"Frequency\")\n",
    "plt.show()"
   ]
  },
  {
   "cell_type": "markdown",
   "metadata": {},
   "source": [
    "# Corpus Statistics"
   ]
  },
  {
   "cell_type": "code",
   "execution_count": 19,
   "metadata": {},
   "outputs": [
    {
     "name": "stderr",
     "output_type": "stream",
     "text": [
      "100%|██████████| 1852/1852 [00:00<00:00, 54666.60it/s]\n"
     ]
    },
    {
     "name": "stdout",
     "output_type": "stream",
     "text": [
      " average words per text: 243.74352051835854\n",
      " standard deviation on words per text: 68.97321283430158\n",
      " average sentences per text: 9.429805615550755\n"
     ]
    },
    {
     "data": {
      "image/png": "[encoded data removed]",
      "text/plain": [
       "<Figure size 432x288 with 1 Axes>"
      ]
     },
     "metadata": {
      "needs_background": "light"
     },
     "output_type": "display_data"
    }
   ],
   "source": [
    "text_words = []\n",
    "for row in tqdm.tqdm(dataset):\n",
    "    text = row['text']\n",
    "    text_words.append(len(text.split()))\n",
    "    \n",
    "mean_text_words = np.mean(text_words)\n",
    "sd_text_words = np.std(text_words)\n",
    "mean_text_sentences = number_of_sentences / len(dataset)\n",
    "print(' average words per text:', mean_text_words)\n",
    "print(' standard deviation on words per text:', sd_text_words)\n",
    "print(' average sentences per text:', mean_text_sentences)\n",
    "    \n",
    "plt.hist(text_words, bins = 100)\n",
    "plt.show()"
   ]
  },
  {
   "cell_type": "markdown",
   "metadata": {},
   "source": [
    "# Save dataset in json format"
   ]
  },
  {
   "cell_type": "code",
   "execution_count": 20,
   "metadata": {},
   "outputs": [],
   "source": [
    "from sklearn.model_selection import train_test_split"
   ]
  },
  {
   "cell_type": "code",
   "execution_count": 21,
   "metadata": {},
   "outputs": [],
   "source": [
    "train, val = train_test_split(dataset, test_size=0.15, random_state=44)"
   ]
  },
  {
   "cell_type": "code",
   "execution_count": 22,
   "metadata": {},
   "outputs": [
    {
     "data": {
      "text/plain": [
       "278"
      ]
     },
     "execution_count": 22,
     "metadata": {},
     "output_type": "execute_result"
    }
   ],
   "source": [
    "len(val)"
   ]
  },
  {
   "cell_type": "code",
   "execution_count": 23,
   "metadata": {},
   "outputs": [
    {
     "data": {
      "text/plain": [
       "1574"
      ]
     },
     "execution_count": 23,
     "metadata": {},
     "output_type": "execute_result"
    }
   ],
   "source": [
    "len(train)"
   ]
  },
  {
   "cell_type": "code",
   "execution_count": 24,
   "metadata": {},
   "outputs": [],
   "source": [
    "with open(\"../Datasets/HoC/train.json\", \"w\") as ftrain:\n",
    "    json.dump(train, ftrain)\n",
    "with open(\"../Datasets/HoC/val.json\", \"w\") as fval:\n",
    "    json.dump(val, fval)"
   ]
  },
  {
   "cell_type": "code",
   "execution_count": null,
   "metadata": {},
   "outputs": [],
   "source": []
  }
 ],
 "metadata": {
  "kernelspec": {
   "display_name": "Python 3",
   "language": "python",
   "name": "python3"
  },
  "language_info": {
   "codemirror_mode": {
    "name": "ipython",
    "version": 3
   },
   "file_extension": ".py",
   "mimetype": "text/x-python",
   "name": "python",
   "nbconvert_exporter": "python",
   "pygments_lexer": "ipython3",
   "version": "3.7.9"
  }
 },
 "nbformat": 4,
 "nbformat_minor": 4
}